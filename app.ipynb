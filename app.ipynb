{
 "cells": [
  {
   "cell_type": "code",
   "execution_count": 17,
   "metadata": {},
   "outputs": [],
   "source": [
    "# ! pip install pyspark"
   ]
  },
  {
   "cell_type": "code",
   "execution_count": 18,
   "metadata": {},
   "outputs": [],
   "source": [
    "import pyspark"
   ]
  },
  {
   "cell_type": "code",
   "execution_count": 19,
   "metadata": {},
   "outputs": [],
   "source": [
    "from pyspark.sql import SparkSession\n",
    "from pyspark.sql.functions import sum, year"
   ]
  },
  {
   "cell_type": "markdown",
   "metadata": {},
   "source": [
    "# Création de la session Spark"
   ]
  },
  {
   "cell_type": "code",
   "execution_count": 20,
   "metadata": {},
   "outputs": [],
   "source": [
    "spark = SparkSession.builder \\\n",
    "    .appName(\"Analyse des Ventes\") \\\n",
    "    .master(\"local[*]\") \\\n",
    "    .getOrCreate()"
   ]
  },
  {
   "cell_type": "markdown",
   "metadata": {},
   "source": [
    "#### Création d'un exemple de données pour le test"
   ]
  },
  {
   "cell_type": "code",
   "execution_count": 21,
   "metadata": {},
   "outputs": [],
   "source": [
    "donnees_test = \"\"\"\n",
    "2024-01-01 Paris Ordinateur 1200\n",
    "2024-01-02 Lyon Telephone 800\n",
    "2024-01-03 Paris Tablette 600\n",
    "2024-01-04 Marseille Ordinateur 1100\n",
    "2024-02-01 Lyon Telephone 750\n",
    "2023-02-02 Paris Ordinateur 1300\n",
    "\"\"\""
   ]
  },
  {
   "cell_type": "markdown",
   "metadata": {},
   "source": [
    "##### Écriture des données de test dans un fichier\n"
   ]
  },
  {
   "cell_type": "code",
   "execution_count": 22,
   "metadata": {},
   "outputs": [],
   "source": [
    "with open(\"ventes.txt\", \"w\") as f:\n",
    "    f.write(donnees_test.strip())"
   ]
  },
  {
   "cell_type": "markdown",
   "metadata": {},
   "source": [
    "### Exercice 1: Total des ventes par ville\n",
    "#### Lecture du fichier"
   ]
  },
  {
   "cell_type": "code",
   "execution_count": 23,
   "metadata": {},
   "outputs": [],
   "source": [
    "df = spark.read.csv(\"ventes.txt\", sep=\" \", schema=\"date STRING, ville STRING, produit STRING, prix DOUBLE\")\n"
   ]
  },
  {
   "cell_type": "markdown",
   "metadata": {},
   "source": [
    "#### Calcul du total des ventes par ville"
   ]
  },
  {
   "cell_type": "code",
   "execution_count": 24,
   "metadata": {},
   "outputs": [
    {
     "name": "stdout",
     "output_type": "stream",
     "text": [
      "Résultat Exercice 1 - Total des ventes par ville:\n",
      "+---------+------------+\n",
      "|    ville|total_ventes|\n",
      "+---------+------------+\n",
      "|     Lyon|      1550.0|\n",
      "|Marseille|      1100.0|\n",
      "|    Paris|      3100.0|\n",
      "+---------+------------+\n",
      "\n"
     ]
    }
   ],
   "source": [
    "total_ventes_ville = df.groupBy(\"ville\") \\\n",
    "    .agg(sum(\"prix\").alias(\"total_ventes\")) \\\n",
    "    .orderBy(\"ville\")\n",
    "\n",
    "print(\"Résultat Exercice 1 - Total des ventes par ville:\")\n",
    "total_ventes_ville.show()"
   ]
  },
  {
   "cell_type": "markdown",
   "metadata": {},
   "source": [
    "### Exercice 2: Total des ventes par ville pour une année donnée\n"
   ]
  },
  {
   "cell_type": "code",
   "execution_count": 25,
   "metadata": {},
   "outputs": [
    {
     "name": "stdout",
     "output_type": "stream",
     "text": [
      "\n",
      "Résultat Exercice 2 - Total des ventes par ville pour 2024:\n",
      "+---------+-----------------+\n",
      "|    ville|total_ventes_2024|\n",
      "+---------+-----------------+\n",
      "|     Lyon|           1550.0|\n",
      "|Marseille|           1100.0|\n",
      "|    Paris|           1800.0|\n",
      "+---------+-----------------+\n",
      "\n"
     ]
    }
   ],
   "source": [
    "# Ajout d'une colonne année\n",
    "df_with_year = df.withColumn(\"annee\", year(df.date))\n",
    "\n",
    "# Fonction pour calculer le total des ventes par ville pour une année spécifique\n",
    "def calculer_ventes_annee(annee):\n",
    "    resultat = df_with_year.filter(df_with_year.annee == annee) \\\n",
    "        .groupBy(\"ville\") \\\n",
    "        .agg(sum(\"prix\").alias(f\"total_ventes_{annee}\")) \\\n",
    "        .orderBy(\"ville\")\n",
    "    return resultat\n",
    "\n",
    "# Exemple pour l'année 2024\n",
    "print(\"\\nRésultat Exercice 2 - Total des ventes par ville pour 2024:\")\n",
    "ventes_2024 = calculer_ventes_annee(2024)\n",
    "ventes_2024.show()"
   ]
  },
  {
   "cell_type": "markdown",
   "metadata": {},
   "source": [
    "# *** Arrêt de la session Spark ***"
   ]
  },
  {
   "cell_type": "code",
   "execution_count": 26,
   "metadata": {},
   "outputs": [],
   "source": [
    "spark.stop()"
   ]
  }
 ],
 "metadata": {
  "kernelspec": {
   "display_name": "base",
   "language": "python",
   "name": "python3"
  },
  "language_info": {
   "codemirror_mode": {
    "name": "ipython",
    "version": 3
   },
   "file_extension": ".py",
   "mimetype": "text/x-python",
   "name": "python",
   "nbconvert_exporter": "python",
   "pygments_lexer": "ipython3",
   "version": "3.11.7"
  }
 },
 "nbformat": 4,
 "nbformat_minor": 2
}
